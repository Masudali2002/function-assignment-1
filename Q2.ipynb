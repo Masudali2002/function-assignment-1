{
 "cells": [
  {
   "cell_type": "code",
   "execution_count": 1,
   "id": "2326fcb2-a8a4-4a3d-911a-ada702fe514b",
   "metadata": {},
   "outputs": [],
   "source": [
    "#Q2. Why *args and **kwargs is used in some functions? Create a function each for *args and **kwargs to demonstrate their use."
   ]
  },
  {
   "cell_type": "code",
   "execution_count": null,
   "id": "355607e2-63cf-4748-ad97-dd08befa705c",
   "metadata": {},
   "outputs": [],
   "source": [
    "#1...ans> '*args' is used to pass tuple in function and '*kwargs' is used to pass dictionary in th function."
   ]
  },
  {
   "cell_type": "code",
   "execution_count": 4,
   "id": "12af3550-24ac-4f80-a14d-9fcfbac2a5dd",
   "metadata": {},
   "outputs": [],
   "source": [
    "def fun(*args):\n",
    "    print( \"name is\", args[0],\"roll is\",args[1],\"marks is\",args[2])"
   ]
  },
  {
   "cell_type": "code",
   "execution_count": 5,
   "id": "b55fcba9-a193-4c17-a5aa-58dc44f4a0d3",
   "metadata": {},
   "outputs": [
    {
     "name": "stdout",
     "output_type": "stream",
     "text": [
      "name is masud roll is 57 marks is 85\n"
     ]
    }
   ],
   "source": [
    "fun(\"masud\",57,85)"
   ]
  },
  {
   "cell_type": "code",
   "execution_count": 12,
   "id": "6b4a7dc2-3dd0-48e4-8e4d-395365a9b12f",
   "metadata": {},
   "outputs": [],
   "source": [
    "def fun1(**kwargs):\n",
    "    for key,vlaue in kwargs.items():\n",
    "        print(key,vlaue)"
   ]
  },
  {
   "cell_type": "code",
   "execution_count": 9,
   "id": "b0125399-f524-4e4e-919e-945a7540d265",
   "metadata": {},
   "outputs": [],
   "source": [
    "markslist={\"masud\":85,\"kaustav\":95,\"anjan\" :90}"
   ]
  },
  {
   "cell_type": "code",
   "execution_count": 13,
   "id": "60ea567b-e803-446b-b697-eda47443b9cb",
   "metadata": {},
   "outputs": [
    {
     "name": "stdout",
     "output_type": "stream",
     "text": [
      "masud 85\n",
      "kaustav 95\n",
      "anjan 90\n"
     ]
    }
   ],
   "source": [
    "fun1(**markslist)"
   ]
  },
  {
   "cell_type": "code",
   "execution_count": null,
   "id": "f6df418f-a9bd-4548-826f-978254802ed4",
   "metadata": {},
   "outputs": [],
   "source": []
  }
 ],
 "metadata": {
  "kernelspec": {
   "display_name": "Python 3 (ipykernel)",
   "language": "python",
   "name": "python3"
  },
  "language_info": {
   "codemirror_mode": {
    "name": "ipython",
    "version": 3
   },
   "file_extension": ".py",
   "mimetype": "text/x-python",
   "name": "python",
   "nbconvert_exporter": "python",
   "pygments_lexer": "ipython3",
   "version": "3.12.0"
  }
 },
 "nbformat": 4,
 "nbformat_minor": 5
}
