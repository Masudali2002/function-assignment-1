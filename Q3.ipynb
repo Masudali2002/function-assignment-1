{
 "cells": [
  {
   "cell_type": "code",
   "execution_count": 1,
   "id": "32491652-9542-4078-adc0-41c1c760473d",
   "metadata": {},
   "outputs": [],
   "source": [
    "#Q3. What is an iterator in python? Name the method used to initialise the iterator object and the method\n",
    "#used for iteration. Use these methods to print the first five elements of the given list [2,4,6,8,10,12,14,16,18,20]."
   ]
  },
  {
   "cell_type": "code",
   "execution_count": 1,
   "id": "f2f5a81e-36e9-4ecb-b90b-c23c4ffcf86b",
   "metadata": {},
   "outputs": [],
   "source": [
    "#1...ans>Itreator is an object that allows us to itreate over the collections of data such as list ,tuples,sets."
   ]
  },
  {
   "cell_type": "code",
   "execution_count": 2,
   "id": "6835ba11-037d-4fe6-9548-2503b307cb86",
   "metadata": {},
   "outputs": [],
   "source": [
    "#2..ans> 'iter\" keyword is used to initilized itres=ator."
   ]
  },
  {
   "cell_type": "code",
   "execution_count": 3,
   "id": "e6142a2f-1031-4367-9362-b691298889b2",
   "metadata": {},
   "outputs": [],
   "source": [
    "l=[2,4,6,8,10,12,14,16,18,20]"
   ]
  },
  {
   "cell_type": "code",
   "execution_count": 14,
   "id": "e9970161-4d7a-4ee4-b41f-d35ef172ea51",
   "metadata": {},
   "outputs": [],
   "source": [
    "l1=iter(l)"
   ]
  },
  {
   "cell_type": "code",
   "execution_count": 6,
   "id": "20fc9069-b86f-4af4-b29e-465a69add5eb",
   "metadata": {},
   "outputs": [
    {
     "data": {
      "text/plain": [
       "list_iterator"
      ]
     },
     "execution_count": 6,
     "metadata": {},
     "output_type": "execute_result"
    }
   ],
   "source": [
    "type(l1)"
   ]
  },
  {
   "cell_type": "code",
   "execution_count": 15,
   "id": "c5f11d69-8d58-4ed8-afea-493732cdbaa2",
   "metadata": {},
   "outputs": [
    {
     "name": "stdout",
     "output_type": "stream",
     "text": [
      "2\n",
      "4\n",
      "6\n",
      "8\n",
      "10\n"
     ]
    }
   ],
   "source": [
    "print(next(l1))\n",
    "print(next(l1))\n",
    "print(next(l1))\n",
    "print(next(l1))\n",
    "print(next(l1))"
   ]
  },
  {
   "cell_type": "code",
   "execution_count": null,
   "id": "2fa52fa4-8ee6-4b41-baa9-83a0951e3e4b",
   "metadata": {},
   "outputs": [],
   "source": []
  }
 ],
 "metadata": {
  "kernelspec": {
   "display_name": "Python 3 (ipykernel)",
   "language": "python",
   "name": "python3"
  },
  "language_info": {
   "codemirror_mode": {
    "name": "ipython",
    "version": 3
   },
   "file_extension": ".py",
   "mimetype": "text/x-python",
   "name": "python",
   "nbconvert_exporter": "python",
   "pygments_lexer": "ipython3",
   "version": "3.12.0"
  }
 },
 "nbformat": 4,
 "nbformat_minor": 5
}
