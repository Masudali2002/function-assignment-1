{
 "cells": [
  {
   "cell_type": "code",
   "execution_count": 1,
   "id": "036dc9ea-e8ff-44dc-9975-7f887b5ee7c5",
   "metadata": {},
   "outputs": [],
   "source": [
    "#Q1. Which keyword is used to create a function? Create a function to return a list of odd numbers in the range of 1 to 25."
   ]
  },
  {
   "cell_type": "code",
   "execution_count": 2,
   "id": "92b3f676-318b-4d75-b9e7-2642eb11aaca",
   "metadata": {},
   "outputs": [],
   "source": [
    "#1..ans> 'def' keyword is used is used to creat function in python."
   ]
  },
  {
   "cell_type": "code",
   "execution_count": 4,
   "id": "18b3e444-e32e-46c8-b847-cf7c5c6c33f1",
   "metadata": {},
   "outputs": [],
   "source": [
    "l=range(1,26)"
   ]
  },
  {
   "cell_type": "code",
   "execution_count": 12,
   "id": "370ce652-6140-4e93-bb58-4a712be70adb",
   "metadata": {},
   "outputs": [],
   "source": [
    "def fun(l):\n",
    "    l1=[]\n",
    "    for i in l:\n",
    "        if i%2!=0:\n",
    "            l1.append(i)\n",
    "    return l1"
   ]
  },
  {
   "cell_type": "code",
   "execution_count": 13,
   "id": "06020337-54fe-48d6-a6a8-07db86aca699",
   "metadata": {},
   "outputs": [
    {
     "data": {
      "text/plain": [
       "[1, 3, 5, 7, 9, 11, 13, 15, 17, 19, 21, 23, 25]"
      ]
     },
     "execution_count": 13,
     "metadata": {},
     "output_type": "execute_result"
    }
   ],
   "source": [
    "fun(l)"
   ]
  },
  {
   "cell_type": "code",
   "execution_count": null,
   "id": "6eefcea9-e710-48d6-b7ac-d6105d56b2a1",
   "metadata": {},
   "outputs": [],
   "source": []
  }
 ],
 "metadata": {
  "kernelspec": {
   "display_name": "Python 3 (ipykernel)",
   "language": "python",
   "name": "python3"
  },
  "language_info": {
   "codemirror_mode": {
    "name": "ipython",
    "version": 3
   },
   "file_extension": ".py",
   "mimetype": "text/x-python",
   "name": "python",
   "nbconvert_exporter": "python",
   "pygments_lexer": "ipython3",
   "version": "3.12.0"
  }
 },
 "nbformat": 4,
 "nbformat_minor": 5
}
