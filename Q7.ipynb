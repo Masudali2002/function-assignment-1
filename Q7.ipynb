{
 "cells": [
  {
   "cell_type": "code",
   "execution_count": 2,
   "id": "f855244a-dc87-48c4-97f6-cced20b8fa76",
   "metadata": {},
   "outputs": [],
   "source": [
    "#Q7. Write a List Comprehension to iterate through the given string: ‘pwskills’.\n"
   ]
  },
  {
   "cell_type": "code",
   "execution_count": 3,
   "id": "4cee753b-2e08-4401-ae38-ea53e6169e7c",
   "metadata": {},
   "outputs": [],
   "source": [
    "s=\"pwskills\""
   ]
  },
  {
   "cell_type": "code",
   "execution_count": 5,
   "id": "50dff06b-6f23-4e01-a10e-6d8bd4eff877",
   "metadata": {},
   "outputs": [],
   "source": [
    "s1=list(map(lambda x:x,s))"
   ]
  },
  {
   "cell_type": "code",
   "execution_count": 6,
   "id": "f3b3728e-08e5-4eb1-8fdd-378db783813a",
   "metadata": {},
   "outputs": [
    {
     "data": {
      "text/plain": [
       "['p', 'w', 's', 'k', 'i', 'l', 'l', 's']"
      ]
     },
     "execution_count": 6,
     "metadata": {},
     "output_type": "execute_result"
    }
   ],
   "source": [
    "s1"
   ]
  },
  {
   "cell_type": "code",
   "execution_count": null,
   "id": "239584a0-e275-45ae-bdae-6871b1e1eac0",
   "metadata": {},
   "outputs": [],
   "source": []
  }
 ],
 "metadata": {
  "kernelspec": {
   "display_name": "Python 3 (ipykernel)",
   "language": "python",
   "name": "python3"
  },
  "language_info": {
   "codemirror_mode": {
    "name": "ipython",
    "version": 3
   },
   "file_extension": ".py",
   "mimetype": "text/x-python",
   "name": "python",
   "nbconvert_exporter": "python",
   "pygments_lexer": "ipython3",
   "version": "3.12.0"
  }
 },
 "nbformat": 4,
 "nbformat_minor": 5
}
