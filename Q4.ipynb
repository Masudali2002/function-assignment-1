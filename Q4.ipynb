{
 "cells": [
  {
   "cell_type": "code",
   "execution_count": 1,
   "id": "7b85e9a9-aa9b-452a-921e-12deef4e1aaa",
   "metadata": {},
   "outputs": [],
   "source": [
    "#Q4. What is a generator function in python? Why yield keyword is used? Give an example of a generator function."
   ]
  },
  {
   "cell_type": "code",
   "execution_count": 2,
   "id": "43b4a2a2-0335-4e02-a216-4f9e2b9a747b",
   "metadata": {},
   "outputs": [],
   "source": [
    "#1...ans> Which functions can return a sequence of values is known as generator functions."
   ]
  },
  {
   "cell_type": "code",
   "execution_count": 3,
   "id": "76192a09-6e00-40f8-93dd-893fcc86d87e",
   "metadata": {},
   "outputs": [],
   "source": [
    "#2....ans> 'yield' keyword is used to reurn the values."
   ]
  },
  {
   "cell_type": "code",
   "execution_count": 5,
   "id": "3d5cf343-ea45-456d-ac24-0b555680abb9",
   "metadata": {},
   "outputs": [],
   "source": [
    "def fun(a,b):\n",
    "    yield a+b"
   ]
  },
  {
   "cell_type": "code",
   "execution_count": 8,
   "id": "c5802943-6b7c-4891-85cc-3f323261e4ec",
   "metadata": {},
   "outputs": [],
   "source": [
    "l=fun(10,20)"
   ]
  },
  {
   "cell_type": "code",
   "execution_count": 9,
   "id": "f950c778-e628-4fed-a2fc-246393ab0799",
   "metadata": {},
   "outputs": [
    {
     "data": {
      "text/plain": [
       "<generator object fun at 0x000002F9FD5F6200>"
      ]
     },
     "execution_count": 9,
     "metadata": {},
     "output_type": "execute_result"
    }
   ],
   "source": [
    "l"
   ]
  },
  {
   "cell_type": "code",
   "execution_count": 11,
   "id": "14b62c07-288a-4de3-b01a-5d61a6d0b97e",
   "metadata": {},
   "outputs": [
    {
     "name": "stdout",
     "output_type": "stream",
     "text": [
      "30\n"
     ]
    }
   ],
   "source": [
    "print(next(l))"
   ]
  },
  {
   "cell_type": "code",
   "execution_count": null,
   "id": "5e5edeb4-0261-4bcf-ad1c-28745275a929",
   "metadata": {},
   "outputs": [],
   "source": []
  }
 ],
 "metadata": {
  "kernelspec": {
   "display_name": "Python 3 (ipykernel)",
   "language": "python",
   "name": "python3"
  },
  "language_info": {
   "codemirror_mode": {
    "name": "ipython",
    "version": 3
   },
   "file_extension": ".py",
   "mimetype": "text/x-python",
   "name": "python",
   "nbconvert_exporter": "python",
   "pygments_lexer": "ipython3",
   "version": "3.12.0"
  }
 },
 "nbformat": 4,
 "nbformat_minor": 5
}
