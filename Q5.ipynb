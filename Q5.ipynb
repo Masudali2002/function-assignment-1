{
 "cells": [
  {
   "cell_type": "code",
   "execution_count": 32,
   "id": "188f013b-54b0-45f2-9762-763b997707e3",
   "metadata": {},
   "outputs": [],
   "source": [
    "#Q5. Create a generator function for prime numbers less than 1000. Use the next() method to print the first 20 prime numbers."
   ]
  },
  {
   "cell_type": "code",
   "execution_count": 20,
   "id": "5a74c0f0-2535-4620-a354-87c069cd9cdb",
   "metadata": {},
   "outputs": [],
   "source": [
    "def prime(x):\n",
    "    for i in range(2,x):\n",
    "        if x%i==0:\n",
    "            return 0\n",
    "    return 1"
   ]
  },
  {
   "cell_type": "code",
   "execution_count": 25,
   "id": "ceb1e3b8-6d37-4d64-82a8-28124f2f3ee1",
   "metadata": {},
   "outputs": [],
   "source": [
    "l=range(1,1000)"
   ]
  },
  {
   "cell_type": "code",
   "execution_count": 27,
   "id": "6f9866f3-b8df-4874-b69e-2df08b33c53f",
   "metadata": {},
   "outputs": [],
   "source": [
    "def fun(l):\n",
    "    for i in l:\n",
    "        x=prime(i)\n",
    "        if x==0:\n",
    "            continue\n",
    "        else:\n",
    "            yield i   "
   ]
  },
  {
   "cell_type": "code",
   "execution_count": 35,
   "id": "19fba27e-8d31-4dd7-84a5-131b13df2e61",
   "metadata": {},
   "outputs": [
    {
     "name": "stdout",
     "output_type": "stream",
     "text": [
      "1\n",
      "2\n",
      "3\n",
      "5\n",
      "7\n",
      "11\n",
      "13\n",
      "17\n",
      "19\n",
      "23\n",
      "29\n",
      "31\n",
      "37\n",
      "41\n",
      "43\n",
      "47\n",
      "53\n",
      "59\n",
      "61\n",
      "67\n"
     ]
    }
   ],
   "source": [
    "l1=fun(l)\n",
    "print(next(l1))\n",
    "print(next(l1))\n",
    "print(next(l1))\n",
    "print(next(l1))\n",
    "print(next(l1))\n",
    "print(next(l1))\n",
    "print(next(l1))\n",
    "print(next(l1))\n",
    "print(next(l1))\n",
    "print(next(l1))\n",
    "print(next(l1))\n",
    "print(next(l1))\n",
    "print(next(l1))\n",
    "print(next(l1))\n",
    "print(next(l1))\n",
    "print(next(l1))\n",
    "print(next(l1))\n",
    "print(next(l1))\n",
    "print(next(l1))\n",
    "print(next(l1))"
   ]
  }
 ],
 "metadata": {
  "kernelspec": {
   "display_name": "Python 3 (ipykernel)",
   "language": "python",
   "name": "python3"
  },
  "language_info": {
   "codemirror_mode": {
    "name": "ipython",
    "version": 3
   },
   "file_extension": ".py",
   "mimetype": "text/x-python",
   "name": "python",
   "nbconvert_exporter": "python",
   "pygments_lexer": "ipython3",
   "version": "3.12.0"
  }
 },
 "nbformat": 4,
 "nbformat_minor": 5
}
